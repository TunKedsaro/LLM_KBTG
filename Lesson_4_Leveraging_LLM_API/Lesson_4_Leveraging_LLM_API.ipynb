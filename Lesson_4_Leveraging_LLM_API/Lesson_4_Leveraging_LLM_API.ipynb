{
 "cells": [
  {
   "cell_type": "markdown",
   "metadata": {},
   "source": [
    "<a href=\"https://tunext.com/courses/module-2-large-language-model-llm/lessons/key-objectives-10\"><h3>Key Objectives</h3></a>"
   ]
  },
  {
   "cell_type": "markdown",
   "metadata": {},
   "source": [
    "<center><img src=\"img/01.JPG\"></center>\n"
   ]
  },
  {
   "cell_type": "markdown",
   "metadata": {},
   "source": [
    "<hr>"
   ]
  },
  {
   "cell_type": "markdown",
   "metadata": {},
   "source": [
    "<a href=\"https://tunext.com/courses/module-2-large-language-model-llm/lessons/chapter-4-1-llm-web-service-building\"><h3>Chapter 4.1 LLM Web Service Building</h3></a>"
   ]
  },
  {
   "cell_type": "markdown",
   "metadata": {},
   "source": [
    "<center><img src=\"img/02.JPG\"></center>\n"
   ]
  },
  {
   "cell_type": "markdown",
   "metadata": {},
   "source": [
    "<li>เราจะต้องเขียน server code ขึ้นมาเพื่อที่จะ Run Python code ของเราอีกครั้ง</li>"
   ]
  },
  {
   "cell_type": "markdown",
   "metadata": {},
   "source": [
    "<center><img src=\"img/03.JPG\"></center>\n"
   ]
  },
  {
   "cell_type": "markdown",
   "metadata": {},
   "source": [
    "<center><img src=\"img/04.JPG\"></center>\n"
   ]
  },
  {
   "cell_type": "markdown",
   "metadata": {},
   "source": [
    "<li>FastAPI ทุกอย่างจบได้ภายในไฟล์เดียว</li>"
   ]
  },
  {
   "cell_type": "markdown",
   "metadata": {},
   "source": [
    "<center><img src=\"img/05.JPG\"></center>\n"
   ]
  },
  {
   "cell_type": "markdown",
   "metadata": {},
   "source": [
    "<li>ที่จะมาใช้วันนี้ก็จะเป็น venv ซึ่งสามารถแยก Project แต่ละตัวได้หมดเลย</li>"
   ]
  },
  {
   "cell_type": "markdown",
   "metadata": {},
   "source": [
    "<center><img src=\"img/06.JPG\"></center>\n"
   ]
  },
  {
   "cell_type": "markdown",
   "metadata": {},
   "source": [
    "<li>เราควรที่จะเขียน spec ข้อมูลเข้าและข้อมูลออกให้เรียบร้อย ไม่อย่าง</li>"
   ]
  },
  {
   "cell_type": "markdown",
   "metadata": {},
   "source": [
    "<center><img src=\"img/07.JPG\"></center>\n"
   ]
  },
  {
   "cell_type": "markdown",
   "metadata": {},
   "source": [
    "<center><img src=\"img/08.JPG\"></center>\n"
   ]
  },
  {
   "cell_type": "markdown",
   "metadata": {},
   "source": [
    "<li>ทดลอง GET และ POST API ออกมา</li>\n",
    "<li>แต่ว่าตัว POST มันไม่สามารถทำงานได้สมบูรณ์เพราะว่า เราให้ของมันไม่ครบ</li>"
   ]
  },
  {
   "cell_type": "markdown",
   "metadata": {},
   "source": [
    "<center><img src=\"img/09.JPG\"></center>\n"
   ]
  }
 ],
 "metadata": {
  "language_info": {
   "name": "python"
  }
 },
 "nbformat": 4,
 "nbformat_minor": 2
}
