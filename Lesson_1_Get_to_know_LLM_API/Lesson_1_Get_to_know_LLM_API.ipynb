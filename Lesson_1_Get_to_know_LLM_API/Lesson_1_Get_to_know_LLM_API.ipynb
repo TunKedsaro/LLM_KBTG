{
 "cells": [
  {
   "cell_type": "markdown",
   "metadata": {},
   "source": [
    "<a href=\"https://tunext.com/courses/module-2-large-language-model-llm/lessons/key-objectives-9\"><h1>Key Objectives</h1></a>"
   ]
  },
  {
   "cell_type": "markdown",
   "metadata": {},
   "source": [
    "<center><img src=\"img/01.JPG\"></center>"
   ]
  },
  {
   "cell_type": "markdown",
   "metadata": {},
   "source": [
    "<center><img src=\"img/02.JPG\"></center>"
   ]
  },
  {
   "cell_type": "markdown",
   "metadata": {},
   "source": [
    "<hr>"
   ]
  },
  {
   "cell_type": "markdown",
   "metadata": {},
   "source": [
    "<a href=\"https://tunext.com/courses/module-2-large-language-model-llm/lessons/chapter-1-1-meet-llm\"><h1>Chapter 1.1 Meet LLM</h1></a>"
   ]
  },
  {
   "cell_type": "markdown",
   "metadata": {},
   "source": [
    "<center><img src=\"img/03.JPG\"></center>"
   ]
  },
  {
   "cell_type": "markdown",
   "metadata": {},
   "source": [
    "<center><img src=\"img/04.JPG\"></center>"
   ]
  },
  {
   "cell_type": "markdown",
   "metadata": {},
   "source": [
    "<center><img src=\"img/05.JPG\"></center>"
   ]
  },
  {
   "cell_type": "markdown",
   "metadata": {},
   "source": [
    "<center><img src=\"img/06.JPG\"></center>"
   ]
  },
  {
   "cell_type": "markdown",
   "metadata": {},
   "source": [
    "<li>เหตุผลที่มันเหมือนจะค่อยๆพิมพ์ออกมาทีละคำๆ เพราะว่ามันกำลัง Generative</li>\n",
    "<ul>\n",
    "    <li>G : Generative, ค่อยสร้างคำออกมา</li>\n",
    "    <li>P : Pre-trained, Model สำหรับ Pretrain (ซึ่งมีการฝึกสอนเป็นปีๆ)</li>\n",
    "    <li>T : Transformer, Architecture สำหรับทำงาน</li>\n",
    "</ul>"
   ]
  },
  {
   "cell_type": "markdown",
   "metadata": {},
   "source": [
    "<center><img src=\"img/07.JPG\"></center>"
   ]
  },
  {
   "cell_type": "markdown",
   "metadata": {},
   "source": [
    "<center><img src=\"img/08.JPG\"></center>"
   ]
  },
  {
   "cell_type": "markdown",
   "metadata": {},
   "source": [
    "<li>O หมายถึงสามารถรับข้อมูลได้มากกว่าข้อความอาจจะเป็น วิดีโอ เสียง</li>"
   ]
  },
  {
   "cell_type": "markdown",
   "metadata": {},
   "source": [
    "<center><img src=\"img/09.JPG\"></center>"
   ]
  },
  {
   "cell_type": "markdown",
   "metadata": {},
   "source": [
    "<center><img src=\"img/10.JPG\"></center>"
   ]
  },
  {
   "cell_type": "markdown",
   "metadata": {},
   "source": [
    "<center><img src=\"img/11.JPG\"></center>"
   ]
  },
  {
   "cell_type": "markdown",
   "metadata": {},
   "source": [
    "<li>Product ปัจจุบันแบ่งออกเป็น 2 แบบ</li>\n",
    "<ul>\n",
    "    <li>Consumer ver.</li>\n",
    "    <ul>\n",
    "        <li>ไม่สามารถ Tune ปรับแต่งให้เป็นไปตามความต้องการได้</li>\n",
    "        <li>ข้อมูลที่เราส่งเข้าไปก็จะถูกเอาไป Train</li>\n",
    "    </ul>\n",
    "    <li>API ver</li>\n",
    "    <ul>\n",
    "        <li>นักพัฒนา</li>\n",
    "        <li>ได้ความสามารถในการ Customize</li>\n",
    "        <li>ไม่เอาข้อมูลของเราไป Train</li>\n",
    "    </ul>\n",
    "</ul>\n"
   ]
  },
  {
   "cell_type": "markdown",
   "metadata": {},
   "source": [
    "<hr>"
   ]
  },
  {
   "cell_type": "markdown",
   "metadata": {},
   "source": [
    "<a href=\"https://tunext.com/courses/module-2-large-language-model-llm/lessons/chapter-1-2-exploring-llms-demo\"><h1>Chapter 1.2 Exploring LLMs (Demo)</h1></a>"
   ]
  },
  {
   "cell_type": "markdown",
   "metadata": {},
   "source": [
    "<center><img src=\"img/12.JPG\"></center>"
   ]
  },
  {
   "cell_type": "markdown",
   "metadata": {},
   "source": [
    "<a href=\"https://tunext.com/courses/module-2-large-language-model-llm/lessons/chapter-1-3-how-llm-works\"><h1>Chapter 1.3 How LLM Works?</h1></a>"
   ]
  },
  {
   "cell_type": "markdown",
   "metadata": {},
   "source": [
    "<center><img src=\"img/13.JPG\"></center>"
   ]
  },
  {
   "cell_type": "markdown",
   "metadata": {},
   "source": [
    "<li>LLM คือ Large Language model แปลว่าโมเดลที่มีขนาดใหญ่เมื่อเทียบกับโมเดลอื่นๆในโลกนี้</li>\n",
    "<li>"
   ]
  },
  {
   "cell_type": "markdown",
   "metadata": {},
   "source": [
    "<center><img src=\"img/14.JPG\"></center>"
   ]
  },
  {
   "cell_type": "markdown",
   "metadata": {},
   "source": [
    "<li>เบื้องหลังของมันคือโครงค่ายประสาทเทียม</li>\n",
    "<li>เวลาที่เราสื่อสารเนี้ยมันจะมีการส่งข้อมูลจากจุดหนึ่งไปยังอีกจุดนึ่ง</li>\n",
    "<li>Neural network เป็นเหมือนกับการจำลองโครงค่ายประสาทเทียม</li>"
   ]
  },
  {
   "cell_type": "markdown",
   "metadata": {},
   "source": [
    "<center><img src=\"img/15.JPG\"></center>"
   ]
  },
  {
   "cell_type": "markdown",
   "metadata": {},
   "source": [
    "<li>วิธีการฝึกสอนมันจะถูกเรียกว่ากระบวนการ Deep learning</li>"
   ]
  },
  {
   "cell_type": "markdown",
   "metadata": {},
   "source": [
    "<center><img src=\"img/16.JPG\"></center>\n",
    "<center><img src=\"img/17.JPG\"></center>"
   ]
  },
  {
   "cell_type": "markdown",
   "metadata": {},
   "source": [
    "<center><img src=\"img/18.JPG\"></center>"
   ]
  },
  {
   "cell_type": "markdown",
   "metadata": {},
   "source": [
    "<center><img src=\"img/19.JPG\"></center>\n",
    "<li>Process นี้เป็น process ปกติที่เราเอาคำออกไปแล้วมาให้มันเรียนรู้</li>"
   ]
  },
  {
   "cell_type": "markdown",
   "metadata": {},
   "source": [
    "<center><img src=\"img/20.JPG\"></center>\n"
   ]
  },
  {
   "cell_type": "markdown",
   "metadata": {},
   "source": [
    "<li>วิธีสร้างคือหยิบบทความมาสักอันแล้วเอาบางอย่างซ่อนเอาไว้ แล้วเอาไปซ้อนเอาไว้แล้วค่อยๆสอนมันเรื่อยๆ บทความนึ่งสามารถสร้างได้หลายบทมากๆ</li>"
   ]
  },
  {
   "cell_type": "markdown",
   "metadata": {},
   "source": [
    "<center><img src=\"img/21.JPG\"></center>\n"
   ]
  },
  {
   "cell_type": "markdown",
   "metadata": {},
   "source": [
    "<center><img src=\"img/22.JPG\"></center>\n"
   ]
  },
  {
   "cell_type": "markdown",
   "metadata": {},
   "source": [
    "<li>อันนี้เป็นที่มาก็คือ ถ้าเป็น math มันก็สามารถตอบได้</li>"
   ]
  },
  {
   "cell_type": "markdown",
   "metadata": {},
   "source": [
    "<center><img src=\"img/23.JPG\"></center>\n"
   ]
  },
  {
   "cell_type": "markdown",
   "metadata": {},
   "source": [
    "<li>RLHF เป็นตัวที่ให้ User เลือกว่าชอบแบบไหนมากกว่ากัน</li>\n",
    "<li>อันนี้จะเป็นกระบวนการที่จะทำให้โมเดล LLM ของเราสามารถตอบเป็นภาษาของคนได้มากขึ้นโดยการให้ User เลือก</li>"
   ]
  },
  {
   "cell_type": "markdown",
   "metadata": {},
   "source": [
    "<center><img src=\"img/24.JPG\"></center>"
   ]
  },
  {
   "cell_type": "markdown",
   "metadata": {},
   "source": [
    "<center><img src=\"img/25.JPG\"></center>\n"
   ]
  },
  {
   "cell_type": "markdown",
   "metadata": {},
   "source": [
    "<li>สุดท้ายได้ Large language model ที่สามารถทำงานได้</li>"
   ]
  },
  {
   "cell_type": "markdown",
   "metadata": {},
   "source": [
    "<ul>\n",
    "    <li>สรุป</li>\n",
    "    <li>01 จำลองสมอง ด้วย Neural network</li>\n",
    "    <li>02 นำข้อมูลจาก Internet จำนวนมากไปฝึกสอนมัน</li>\n",
    "    <li>03 เอามนุษย์ไปนั้งตรวจสอบคำตอบ</li>\n",
    "</ul>"
   ]
  },
  {
   "cell_type": "markdown",
   "metadata": {},
   "source": [
    "<hr>"
   ]
  },
  {
   "cell_type": "markdown",
   "metadata": {},
   "source": [
    "<a href=\"https://tunext.com/courses/module-2-large-language-model-llm/lessons/chapter-1-4-key-component-of-llm\"><h1>Chapter 1.4 Key Component of LLM</h1></a>"
   ]
  },
  {
   "cell_type": "markdown",
   "metadata": {},
   "source": [
    "<li>การจะเลือกใช้ LLM จะต้องเลือกอะไรบ้าง</li>\n",
    "<li>ดูขนาดใหญ่ถ้าเป็น 3 หรือ 5 มันจะมีขนาดใหญ่ขึ้น</li>\n",
    "<li>โมเดลที่มีคำว่า Flash, Turbo จะเล็กลง</li>"
   ]
  },
  {
   "cell_type": "markdown",
   "metadata": {},
   "source": [
    "<center><img src=\"img/26.JPG\"></center>\n"
   ]
  },
  {
   "cell_type": "markdown",
   "metadata": {},
   "source": [
    "<li>ขนาดของโมเดล ขนาดสมอง</li>"
   ]
  },
  {
   "cell_type": "markdown",
   "metadata": {},
   "source": [
    "<center><img src=\"img/27.JPG\"></center>\n"
   ]
  },
  {
   "cell_type": "markdown",
   "metadata": {},
   "source": [
    "<li>สมองที่ใหญ่จะอนุมานได้เลยทันทีว่ามันจะฉลาด</li>"
   ]
  },
  {
   "cell_type": "markdown",
   "metadata": {},
   "source": [
    "<center><img src=\"img/28.JPG\"></center>\n"
   ]
  },
  {
   "cell_type": "markdown",
   "metadata": {},
   "source": [
    "<li>ยิ่งโมเดลขนาดใหญ่ก็ยิ่งจ่ายแพง</li>"
   ]
  },
  {
   "cell_type": "markdown",
   "metadata": {},
   "source": [
    "<center><img src=\"img/29.JPG\"></center>\n",
    "<li>Token เป็น จำนวน Input ที่ GPT เห็น ไม่ใช่เป็นคำ</li>\n",
    "<center><img src=\"img/30.JPG\"></center>\n",
    "<li>ประโยคเดียวกันแต่ว่าคนละภาษา ก็ Token ไม่เท่ากัน</li>\n",
    "<code>Prompt ภาษาอังกฤษ จะประหยัด Token มากกว่า</code>"
   ]
  },
  {
   "cell_type": "markdown",
   "metadata": {},
   "source": [
    "<hr>"
   ]
  },
  {
   "cell_type": "markdown",
   "metadata": {},
   "source": [
    "<a href=\"https://tunext.com/courses/module-2-large-language-model-llm/lessons/chapter-1-5-key-takeaways\"><h1>Chapter 1.5 Key Takeaways</h1></a>"
   ]
  },
  {
   "cell_type": "markdown",
   "metadata": {},
   "source": [
    "<center><img src=\"img/31.JPG\"></center>\n"
   ]
  },
  {
   "cell_type": "markdown",
   "metadata": {},
   "source": []
  },
  {
   "cell_type": "markdown",
   "metadata": {},
   "source": []
  },
  {
   "cell_type": "markdown",
   "metadata": {},
   "source": []
  },
  {
   "cell_type": "markdown",
   "metadata": {},
   "source": []
  }
 ],
 "metadata": {
  "language_info": {
   "name": "python"
  }
 },
 "nbformat": 4,
 "nbformat_minor": 2
}
