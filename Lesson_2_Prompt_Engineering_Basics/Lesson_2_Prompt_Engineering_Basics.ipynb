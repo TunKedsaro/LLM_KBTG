{
 "cells": [
  {
   "cell_type": "markdown",
   "metadata": {},
   "source": [
    "<a href=\"https://tunext.com/courses/module-2-large-language-model-llm/lessons/key-objectives-11\"><h1>Key Objectives</h1></a>"
   ]
  },
  {
   "cell_type": "markdown",
   "metadata": {},
   "source": [
    "<center><img src=\"img/32.JPG\"></center>"
   ]
  },
  {
   "cell_type": "markdown",
   "metadata": {},
   "source": [
    "<a href=\"https://tunext.com/courses/module-2-large-language-model-llm/lessons/chapter-2-1-prompt-engineer-1\"><h1>Chapter 2.1 Prompt Engineer #1</h1></a>"
   ]
  },
  {
   "cell_type": "markdown",
   "metadata": {},
   "source": [
    "<li>Prompt Engineering คือ ศาสตร์ที่ใช้คุยกับ AI คือคุยยังไงให้ AI รู้เรื่อง</li>"
   ]
  },
  {
   "cell_type": "markdown",
   "metadata": {},
   "source": [
    "<center><img src=\"img/34.JPG\"></center>\n"
   ]
  },
  {
   "cell_type": "markdown",
   "metadata": {},
   "source": [
    "<center><img src=\"img/35.JPG\"></center>\n"
   ]
  },
  {
   "cell_type": "markdown",
   "metadata": {},
   "source": [
    "<li>บอกว่าต้องการให้ย่อแบบไหน เช่น ให้มันอยู่ใน Paragraph เดียวหรือแยกออกจากกันไม่อย่างนั้นแล้วมันจะไปคิดเอาเอง</li>"
   ]
  },
  {
   "cell_type": "markdown",
   "metadata": {},
   "source": [
    "<center><img src=\"img/36.JPG\"></center>\n",
    "<center><img src=\"img/37.JPG\"></center>\n"
   ]
  },
  {
   "cell_type": "markdown",
   "metadata": {},
   "source": [
    "<li>การแยก Input ออกจาก Command prompt</li>"
   ]
  },
  {
   "cell_type": "markdown",
   "metadata": {},
   "source": [
    "<center><img src=\"img/38.JPG\"></center>\n"
   ]
  },
  {
   "cell_type": "markdown",
   "metadata": {},
   "source": [
    "<li>การยกตัวอย่างให้เพื่อป้องกันไม่ให้ LLM คิดเอง</li>\n",
    "<li>การให้ตัวอย่างจะเห็นว่าจะมีการแยกออกเป็น 2 ส่วนคือ Text1 -> Keyword1, Text2 -> Keyword2 เพื่อให้มันตอบ</li>"
   ]
  },
  {
   "cell_type": "markdown",
   "metadata": {},
   "source": [
    "<center><img src=\"img/39.JPG\"></center>\n"
   ]
  },
  {
   "cell_type": "markdown",
   "metadata": {},
   "source": [
    "<li>การบอกความยาว Paragraph</li>"
   ]
  },
  {
   "cell_type": "markdown",
   "metadata": {},
   "source": [
    "<center><img src=\"img/40.JPG\"></center>\n"
   ]
  },
  {
   "cell_type": "markdown",
   "metadata": {},
   "source": [
    "<li>พูดไปตรงๆเลย ไม่ต้องมี Please หรืออะไรพวกนี้</li>"
   ]
  },
  {
   "cell_type": "markdown",
   "metadata": {},
   "source": [
    "<center><img src=\"img/41.JPG\"></center>"
   ]
  },
  {
   "cell_type": "markdown",
   "metadata": {},
   "source": [
    "<li>เก่งในการ Follow คำสั่งไม่เก่งในการห้าทำสิ่งต่างๆ <code>มันห้ามตัวเองไม่ค่อยได้</code></li>\n",
    "<li>ก็คือต้องสั่งมันว่าคุณต้องทำ 1 2 3 4 แต่ไม่ควรสั่งว่าห้ามทำ 1 2 3 4</li>"
   ]
  },
  {
   "cell_type": "markdown",
   "metadata": {},
   "source": [
    "<center><img src=\"img/42.JPG\"></center>\n"
   ]
  },
  {
   "cell_type": "markdown",
   "metadata": {},
   "source": [
    "<li>แบบนี้จะทำให้ LLM สามารถเขียน โค้ดต่อได้เลยในทันที่โดยที่ไม่ต้องมีการอธิบายใดๆ</li>\n",
    "<li>มันตรงประเด็นไม่ยาวและได้ใจความ</li>"
   ]
  },
  {
   "cell_type": "markdown",
   "metadata": {},
   "source": [
    "<hr>"
   ]
  },
  {
   "cell_type": "markdown",
   "metadata": {},
   "source": [
    "<a href=\"https://tunext.com/courses/module-2-large-language-model-llm/lessons/chapter-2-2-prompt-engineer-2\"><h1>Chapter 2.2 Prompt Engineer #2</h1></a>"
   ]
  },
  {
   "cell_type": "markdown",
   "metadata": {},
   "source": [
    "<li>LLM ไม่จำเป็นที่จะต้องเปลี่ยนคำพูดเท่านั้นแต่ว่า เราสามารถที่จะปรับเปลี่ยนอะไรบางอย่างได้ตามตัวแปรต่อไปนี้</li>"
   ]
  },
  {
   "cell_type": "markdown",
   "metadata": {},
   "source": [
    "<center><img src=\"img/43.JPG\"></center>\n"
   ]
  },
  {
   "cell_type": "markdown",
   "metadata": {},
   "source": [
    "<ul>\n",
    "    <li>Model : ใช้ตัวนี้เพื่อเลือกขนาดโมเดลเป็นปกติ</li>\n",
    "    <li>Temperature : ถ้าหากว่าเราอยากให้ ChatGPT มันให้อะไรออกมาแล้ว <code>เหมือนเดิม จะต้อง Fig ตรงนี้ให้ Temperature เป็น 0 แต่ถ้าหากงานไหนที่ต้องการความคิดสร้างสรรค์เราจะต้องเปลี่ยนมันให้กลายเป็น 1 2 เพื่อที่มันจะได้ Random Idea ต่างๆ</code></li>\n",
    "    <li>max_tokens (maximum length) : เป็นการ limit ว่า LLM จะปล่อยเนี้อหาออกมามากน้อยขนาดไหน</li>\n",
    "    <li>stop (stop sequences) : คือตัวกำหนดว่าถ้าหากมีตัวอักษรตรงนี้ออกมาให้ LLM หยุดการทำงาน</li>\n",
    "</ul>"
   ]
  },
  {
   "cell_type": "markdown",
   "metadata": {},
   "source": [
    "<center><img src=\"img/44.JPG\"></center>\n"
   ]
  },
  {
   "cell_type": "markdown",
   "metadata": {},
   "source": [
    "<center><img src=\"img/45.JPG\"></center>\n"
   ]
  },
  {
   "cell_type": "markdown",
   "metadata": {},
   "source": [
    "<center><img src=\"img/46.JPG\"></center>\n"
   ]
  },
  {
   "cell_type": "markdown",
   "metadata": {},
   "source": [
    "<hr>"
   ]
  },
  {
   "cell_type": "markdown",
   "metadata": {},
   "source": [
    "<a href=\"https://tunext.com/courses/module-2-large-language-model-llm/lessons/chapter-2-3-key-takeaways\"><h1>Chapter 2.3 Key Takeaways</h1></a>"
   ]
  },
  {
   "cell_type": "markdown",
   "metadata": {},
   "source": [
    "<center><img src=\"img/47.JPG\"></center>\n"
   ]
  }
 ],
 "metadata": {
  "language_info": {
   "name": "python"
  }
 },
 "nbformat": 4,
 "nbformat_minor": 2
}
